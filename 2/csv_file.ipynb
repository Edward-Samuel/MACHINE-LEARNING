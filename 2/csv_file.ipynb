{
 "cells": [
  {
   "cell_type": "code",
   "execution_count": 6,
   "metadata": {},
   "outputs": [],
   "source": [
    "import pandas as pd\n",
    "import numpy as np"
   ]
  },
  {
   "cell_type": "code",
   "execution_count": 7,
   "metadata": {},
   "outputs": [
    {
     "data": {
      "text/html": [
       "<div>\n",
       "<style scoped>\n",
       "    .dataframe tbody tr th:only-of-type {\n",
       "        vertical-align: middle;\n",
       "    }\n",
       "\n",
       "    .dataframe tbody tr th {\n",
       "        vertical-align: top;\n",
       "    }\n",
       "\n",
       "    .dataframe thead th {\n",
       "        text-align: right;\n",
       "    }\n",
       "</style>\n",
       "<table border=\"1\" class=\"dataframe\">\n",
       "  <thead>\n",
       "    <tr style=\"text-align: right;\">\n",
       "      <th></th>\n",
       "      <th>Sky</th>\n",
       "      <th>Airtemp</th>\n",
       "      <th>Humidity</th>\n",
       "      <th>Wind</th>\n",
       "      <th>Water</th>\n",
       "      <th>Forcast</th>\n",
       "      <th>Enjoysport</th>\n",
       "    </tr>\n",
       "  </thead>\n",
       "  <tbody>\n",
       "    <tr>\n",
       "      <th>0</th>\n",
       "      <td>Sunny</td>\n",
       "      <td>Warm</td>\n",
       "      <td>Normal</td>\n",
       "      <td>Strong</td>\n",
       "      <td>Warm</td>\n",
       "      <td>Same</td>\n",
       "      <td>Yes</td>\n",
       "    </tr>\n",
       "    <tr>\n",
       "      <th>1</th>\n",
       "      <td>Sunny</td>\n",
       "      <td>Warm</td>\n",
       "      <td>High</td>\n",
       "      <td>Strong</td>\n",
       "      <td>Warm</td>\n",
       "      <td>Same</td>\n",
       "      <td>Yes</td>\n",
       "    </tr>\n",
       "    <tr>\n",
       "      <th>2</th>\n",
       "      <td>Rainy</td>\n",
       "      <td>Cold</td>\n",
       "      <td>High</td>\n",
       "      <td>Strong</td>\n",
       "      <td>Warm</td>\n",
       "      <td>Change</td>\n",
       "      <td>Yes</td>\n",
       "    </tr>\n",
       "    <tr>\n",
       "      <th>3</th>\n",
       "      <td>Sunny</td>\n",
       "      <td>Warm</td>\n",
       "      <td>High</td>\n",
       "      <td>Strong</td>\n",
       "      <td>Cool</td>\n",
       "      <td>Change</td>\n",
       "      <td>Yes</td>\n",
       "    </tr>\n",
       "  </tbody>\n",
       "</table>\n",
       "</div>"
      ],
      "text/plain": [
       "     Sky Airtemp Humidity    Wind Water Forcast Enjoysport\n",
       "0  Sunny    Warm   Normal  Strong  Warm    Same        Yes\n",
       "1  Sunny    Warm     High  Strong  Warm    Same        Yes\n",
       "2  Rainy    Cold     High  Strong  Warm  Change        Yes\n",
       "3  Sunny    Warm     High  Strong  Cool  Change        Yes"
      ]
     },
     "execution_count": 7,
     "metadata": {},
     "output_type": "execute_result"
    }
   ],
   "source": [
    "data=pd.read_csv(\"dataset.csv\")\n",
    "data"
   ]
  },
  {
   "cell_type": "code",
   "execution_count": 8,
   "metadata": {},
   "outputs": [
    {
     "data": {
      "text/plain": [
       "array([['Sunny', 'Warm', 'Normal', 'Strong', 'Warm', 'Same'],\n",
       "       ['Sunny', 'Warm', 'High', 'Strong', 'Warm', 'Same'],\n",
       "       ['Rainy', 'Cold', 'High', 'Strong', 'Warm', 'Change'],\n",
       "       ['Sunny', 'Warm', 'High', 'Strong', 'Cool', 'Change']],\n",
       "      dtype=object)"
      ]
     },
     "execution_count": 8,
     "metadata": {},
     "output_type": "execute_result"
    }
   ],
   "source": [
    "ins=np.array(data)[:,:-1]\n",
    "ins"
   ]
  },
  {
   "cell_type": "code",
   "execution_count": 9,
   "metadata": {},
   "outputs": [
    {
     "data": {
      "text/plain": [
       "array(['Yes', 'Yes', 'Yes', 'Yes'], dtype=object)"
      ]
     },
     "execution_count": 9,
     "metadata": {},
     "output_type": "execute_result"
    }
   ],
   "source": [
    "target=np.array(data)[:,-1]\n",
    "target"
   ]
  },
  {
   "cell_type": "markdown",
   "metadata": {},
   "source": [
    "CANDIDATE ELIMINATION ALGORITHM"
   ]
  },
  {
   "cell_type": "code",
   "execution_count": 10,
   "metadata": {},
   "outputs": [
    {
     "name": "stdout",
     "output_type": "stream",
     "text": [
      "\n",
      "INITIALIZATION OF SPECIFIC_HYPOTHESIS AND GENERAL_HYPOTHESIS\n",
      "S: ['Sunny' 'Warm' 'Normal' 'Strong' 'Warm' 'Same']\n",
      "G: [['?', '?', '?', '?', '?', '?'], ['?', '?', '?', '?', '?', '?'], ['?', '?', '?', '?', '?', '?'], ['?', '?', '?', '?', '?', '?'], ['?', '?', '?', '?', '?', '?'], ['?', '?', '?', '?', '?', '?']]\n",
      "\n",
      " ******************************************************************************************************************************************************************************************************************\n",
      "\n",
      "INSTANCE NO. : 1\n",
      "S: ['Sunny' 'Warm' 'Normal' 'Strong' 'Warm' 'Same']\n",
      "G: [['?', '?', '?', '?', '?', '?'], ['?', '?', '?', '?', '?', '?'], ['?', '?', '?', '?', '?', '?'], ['?', '?', '?', '?', '?', '?'], ['?', '?', '?', '?', '?', '?'], ['?', '?', '?', '?', '?', '?']]\n",
      "\n",
      "INSTANCE NO. : 2\n",
      "S: ['Sunny' 'Warm' '?' 'Strong' 'Warm' 'Same']\n",
      "G: [['?', '?', '?', '?', '?', '?'], ['?', '?', '?', '?', '?', '?'], ['?', '?', '?', '?', '?', '?'], ['?', '?', '?', '?', '?', '?'], ['?', '?', '?', '?', '?', '?'], ['?', '?', '?', '?', '?', '?']]\n",
      "\n",
      "INSTANCE NO. : 3\n",
      "S: ['?' '?' '?' 'Strong' 'Warm' '?']\n",
      "G: [['?', '?', '?', '?', '?', '?'], ['?', '?', '?', '?', '?', '?'], ['?', '?', '?', '?', '?', '?'], ['?', '?', '?', '?', '?', '?'], ['?', '?', '?', '?', '?', '?'], ['?', '?', '?', '?', '?', '?']]\n",
      "\n",
      "INSTANCE NO. : 4\n",
      "S: ['?' '?' '?' 'Strong' '?' '?']\n",
      "G: [['?', '?', '?', '?', '?', '?'], ['?', '?', '?', '?', '?', '?'], ['?', '?', '?', '?', '?', '?'], ['?', '?', '?', '?', '?', '?'], ['?', '?', '?', '?', '?', '?'], ['?', '?', '?', '?', '?', '?']]\n",
      "\n",
      " ******************************************************************************************************************************************************************************************************************\n",
      "\n",
      "FINAL SPECIFIC_HYPOTHESIS: \n",
      "S: ['?' '?' '?' 'Strong' '?' '?']\n",
      "\n",
      "FINAL GENERAL_HYPOTHESIS: \n",
      "G: []\n"
     ]
    }
   ],
   "source": [
    "def learn(ins,target):\n",
    "    for i,val in enumerate(target):\n",
    "        if val==\"Yes\":\n",
    "            specific_hypo = ins[i].copy()\n",
    "            break\n",
    "    print(\"\\nINITIALIZATION OF SPECIFIC_HYPOTHESIS AND GENERAL_HYPOTHESIS\")\n",
    "    print(\"S:\",specific_hypo)\n",
    "    general_hypo = [[\"?\" for i in range(len(specific_hypo))] for i in range(len(specific_hypo))]\n",
    "    print(\"G:\",general_hypo)\n",
    "    print(\"\\n\",'*'*210)\n",
    "    for i,val in enumerate(ins):\n",
    "        if target[i] == \"Yes\":\n",
    "            for x in range(len(specific_hypo)):\n",
    "                if val[x] != specific_hypo[x]:\n",
    "                    specific_hypo[x] = '?'\n",
    "        if target[i] == \"No\":\n",
    "            for x in range(len(specific_hypo)):\n",
    "                if val[x] != specific_hypo[x]:\n",
    "                    general_hypo[x][x] = specific_hypo[x]\n",
    "                else:\n",
    "                    general_hypo[x][x] = '?'\n",
    "        print(\"\\nINSTANCE NO. :\",i+1)\n",
    "        print(\"S:\",specific_hypo)\n",
    "        print(\"G:\",general_hypo)|}}}}\n",
    "\n",
    "    indices = [i for i,val in enumerate(general_hypo) if val == ['?','?','?','?','?','?']]\n",
    "    for i in indices:\n",
    "        general_hypo.remove(['?','?','?','?','?','?'])\n",
    "    return specific_hypo,general_hypo\n",
    "specific_hypo_final,general_hypo_final = learn(ins,target)\n",
    "print(\"\\n\",'*'*210)\n",
    "print(\"\\nFINAL SPECIFIC_HYPOTHESIS:\",\"\\nS:\",specific_hypo_final)\n",
    "print(\"\\nFINAL GENERAL_HYPOTHESIS:\",\"\\nG:\",general_hypo_final)]\n",
    "]}"
   ]
  }
 ],
 "metadata": {
  "kernelspec": {
   "display_name": "Python 3",
   "language": "python",
   "name": "python3"
  },
  "language_info": {
   "codemirror_mode": {
    "name": "ipython",
    "version": 3
   },
   "file_extension": ".py",
   "mimetype": "text/x-python",
   "name": "python",
   "nbconvert_exporter": "python",
   "pygments_lexer": "ipython3",
   "version": "3.11.2"
  }
 },
 "nbformat": 4,
 "nbformat_minor": 2
}
