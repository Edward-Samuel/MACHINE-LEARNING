{
 "cells": [
  {
   "cell_type": "code",
   "execution_count": 3,
   "metadata": {},
   "outputs": [
    {
     "name": "stdout",
     "output_type": "stream",
     "text": [
      "RMSE: 262.5839680601362\n",
      "MAE: 235.95982142857142\n"
     ]
    },
    {
     "name": "stderr",
     "output_type": "stream",
     "text": [
      "C:\\Users\\edwar\\AppData\\Local\\Temp\\ipykernel_16376\\4232119882.py:16: UserWarning: pandas only supports SQLAlchemy connectable (engine/connection) or database string URI or sqlite3 DBAPI2 connection. Other DBAPI2 objects are not tested. Please consider using SQLAlchemy.\n",
      "  train_df=pd.read_sql(query_train, conn)\n",
      "C:\\Users\\edwar\\AppData\\Local\\Temp\\ipykernel_16376\\4232119882.py:18: UserWarning: pandas only supports SQLAlchemy connectable (engine/connection) or database string URI or sqlite3 DBAPI2 connection. Other DBAPI2 objects are not tested. Please consider using SQLAlchemy.\n",
      "  test_df=pd.read_sql(query_test, conn)\n"
     ]
    }
   ],
   "source": [
    "import pandas as pd\n",
    "import mysql.connector\n",
    "from sklearn.linear_model import LinearRegression\n",
    "from sklearn.metrics import mean_squared_error, mean_absolute_error\n",
    "import numpy as np\n",
    "\n",
    "conn=mysql.connector.connect(host=\"localhost\",port=\"3306\",user=\"root\",password=\"password\",database=\"ML\")\n",
    "\n",
    "query_train=\"SELECT * FROM TrainingSet\"\n",
    "train_df=pd.read_sql(query_train, conn)\n",
    "query_test=\"SELECT * FROM TestingSet\"\n",
    "test_df=pd.read_sql(query_test, conn)\n",
    "\n",
    "conn.close()\n",
    "\n",
    "X_train=train_df[['Age']]\n",
    "y_train=train_df['TotalAmount']\n",
    "X_test=test_df[['Age']]\n",
    "y_test=test_df['TotalAmount']\n",
    "\n",
    "model=LinearRegression()\n",
    "model.fit(X_train, y_train)\n",
    "\n",
    "y_pred=model.predict(X_test)\n",
    "\n",
    "rmse=np.sqrt(mean_squared_error(y_test, y_pred))\n",
    "mae=mean_absolute_error(y_test, y_pred)\n",
    "\n",
    "print(f'RMSE: {rmse}')\n",
    "print(f'MAE: {mae}')"
   ]
  }
 ],
 "metadata": {
  "kernelspec": {
   "display_name": "Python 3",
   "language": "python",
   "name": "python3"
  },
  "language_info": {
   "codemirror_mode": {
    "name": "ipython",
    "version": 3
   },
   "file_extension": ".py",
   "mimetype": "text/x-python",
   "name": "python",
   "nbconvert_exporter": "python",
   "pygments_lexer": "ipython3",
   "version": "3.11.2"
  }
 },
 "nbformat": 4,
 "nbformat_minor": 2
}
